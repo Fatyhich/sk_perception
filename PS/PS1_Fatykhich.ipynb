{
 "cells": [
  {
   "cell_type": "markdown",
   "metadata": {},
   "source": [
    "## Problem Set 1: Gaussians and Visualization\n",
    "### Made by Denis Fatykhoph"
   ]
  }
 ],
 "metadata": {
  "language_info": {
   "name": "python"
  }
 },
 "nbformat": 4,
 "nbformat_minor": 2
}
